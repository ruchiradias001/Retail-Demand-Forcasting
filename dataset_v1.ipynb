{
 "cells": [
  {
   "cell_type": "code",
   "execution_count": 65,
   "id": "07e2b525",
   "metadata": {},
   "outputs": [],
   "source": [
    "class Invoice:\n",
    "    def __init__(self, invId, date, customer, items):\n",
    "        self.invId = invId\n",
    "        self.date = date\n",
    "        self.customer = customer\n",
    "        self.items = items\n",
    "    \n",
    "    def getInvId(self):\n",
    "        return self.invId\n",
    "    \n",
    "    def getDate(self):\n",
    "        return self.date\n",
    "    \n",
    "    def getCustomer(self):\n",
    "        return self.customer\n",
    "    \n",
    "    def getItems(self):\n",
    "        return self.items\n",
    "    \n",
    "    def getInvDetails(self):\n",
    "        print('\\nInvoice Id\\t\\t: ', self.invId,\n",
    "              '\\nTransaction date\\t: ', self.date\n",
    "             )"
   ]
  },
  {
   "cell_type": "code",
   "execution_count": 66,
   "id": "201fb3be",
   "metadata": {},
   "outputs": [],
   "source": [
    "class OrderedItem:\n",
    "    def __init__(self, item, qty):\n",
    "        self.item = item\n",
    "        self.qty = qty\n",
    "        \n",
    "    def getItem(self):\n",
    "        return self.item\n",
    "    \n",
    "    def getQty(self):\n",
    "        return self.qty"
   ]
  },
  {
   "cell_type": "code",
   "execution_count": 67,
   "id": "17ac7c96",
   "metadata": {},
   "outputs": [],
   "source": [
    "class Item:\n",
    "    def __init__(self, itmId, name, price):\n",
    "        self.itmId = itmId\n",
    "        self.name = name\n",
    "        self.price = price\n",
    "        \n",
    "    def getItmId(self):\n",
    "        return self.itmId\n",
    "    \n",
    "    def getName(self):\n",
    "        return self.name\n",
    "    \n",
    "    def getPrice(self):\n",
    "        return self.price\n",
    "    \n",
    "    def getItmDetails(self):\n",
    "        print('\\nItem Id\\t\\t: ', self.itmId,\n",
    "              '\\nName\\t\\t: ', self.name,\n",
    "              '\\nPrice\\t\\t: ', self.price\n",
    "             )"
   ]
  },
  {
   "cell_type": "code",
   "execution_count": 68,
   "id": "d300c068",
   "metadata": {},
   "outputs": [],
   "source": [
    "class Customer:\n",
    "    def __init__(self, cusId, name, dob, age, sex, married, location):\n",
    "        self.cusId =cusId\n",
    "        self.name = name\n",
    "        self.dob = dob\n",
    "        self.age = age\n",
    "        self.sex = sex\n",
    "        self.married = married\n",
    "        self.location = location\n",
    "    \n",
    "    def getCusId(self):\n",
    "        return self.cusId\n",
    "    \n",
    "    def getName(self):\n",
    "        return self.name\n",
    "    \n",
    "    def getDob(self):\n",
    "        return self.dob\n",
    "    \n",
    "    def getAge(self):\n",
    "        return self.age\n",
    "    \n",
    "    def getSex(self):\n",
    "        return self.sex\n",
    "    \n",
    "    def getMarried(self):\n",
    "        return self.married\n",
    "    \n",
    "    def getLocation(self):\n",
    "        return self.location\n",
    "    \n",
    "    def getCusDetails(self):\n",
    "        print('\\nUser Id\\t\\t: ', self.cusId,\n",
    "              '\\nName\\t\\t: ', self.name,\n",
    "              '\\nBirthdate\\t: ', self.dob,\n",
    "              '\\nAge\\t\\t: ', self.age,\n",
    "              '\\nSex\\t\\t: ', self.sex,\n",
    "              '\\nMarital Status\\t: ', self.married,\n",
    "              '\\nLocation\\t: ', self.location\n",
    "             )"
   ]
  },
  {
   "cell_type": "code",
   "execution_count": 69,
   "id": "1b4785db",
   "metadata": {},
   "outputs": [],
   "source": [
    "import random\n",
    "from faker import Faker\n",
    "from random import randrange\n",
    "from datetime import datetime, timedelta, date"
   ]
  },
  {
   "cell_type": "code",
   "execution_count": 70,
   "id": "14161b54",
   "metadata": {},
   "outputs": [
    {
     "name": "stdout",
     "output_type": "stream",
     "text": [
      "Customer count:  5329\n",
      "\n",
      "User Id\t\t:  user0001 \n",
      "Name\t\t:  Carol Jones \n",
      "Birthdate\t:  1999-09-09 \n",
      "Age\t\t:  23 \n",
      "Sex\t\t:  Female \n",
      "Marital Status\t:  Single \n",
      "Location\t:  Kandy\n"
     ]
    }
   ],
   "source": [
    "cusLst = []\n",
    "cusCnt = 9999\n",
    "\n",
    "locations = ['Colombo', 'Gampaha', 'Kandy', 'Galle', 'Jaffna']\n",
    "\n",
    "fake = Faker()\n",
    "\n",
    "userIdNo = 1\n",
    "\n",
    "for _ in range(cusCnt):\n",
    "    zeros = '0'*(4 - len(str(userIdNo)))\n",
    "    \n",
    "    profile = fake.simple_profile()\n",
    "    \n",
    "    cusId = 'user' + zeros + str(userIdNo)\n",
    "    name = profile['name']\n",
    "    dob = str(profile['birthdate'])\n",
    "    \n",
    "    today = date.today()\n",
    "    age = today.year - datetime.strptime(dob, '%Y-%m-%d').year\n",
    "    \n",
    "    if 18 <= age < 80:\n",
    "        if profile['sex'] == 'M':\n",
    "            sex = 'Male'\n",
    "        else:\n",
    "            sex = 'Female'\n",
    "        married = random.choice(['Married', 'Single'])\n",
    "\n",
    "        location = random.choice(locations)\n",
    "        cusLst.append( Customer(cusId, name, dob, age, sex, married, location) )\n",
    "        \n",
    "        userIdNo += 1\n",
    "\n",
    "print('Customer count: ', len(cusLst))\n",
    "cusLst[0].getCusDetails()"
   ]
  },
  {
   "cell_type": "code",
   "execution_count": 71,
   "id": "8128cd15",
   "metadata": {},
   "outputs": [
    {
     "name": "stdout",
     "output_type": "stream",
     "text": [
      "Item count:  5\n",
      "\n",
      "Item Id\t\t:  item001 \n",
      "Name\t\t:  Milk \n",
      "Price\t\t:  120\n"
     ]
    }
   ],
   "source": [
    "itmLst = []\n",
    "\n",
    "itmLst.append( Item('item001', 'Milk', 120) )\n",
    "itmLst.append( Item('item002', 'Yogurt', 70) )\n",
    "itmLst.append( Item('item003', 'Chocolate', 100) )\n",
    "itmLst.append( Item('item004', 'Water', 50) )\n",
    "itmLst.append( Item('item005', 'Biscuit', 80) )\n",
    "\n",
    "print('Item count: ', len(itmLst))\n",
    "itmLst[0].getItmDetails()"
   ]
  },
  {
   "cell_type": "code",
   "execution_count": 72,
   "id": "a8d652bf",
   "metadata": {},
   "outputs": [
    {
     "name": "stdout",
     "output_type": "stream",
     "text": [
      "Invoice count\t:  55153\n",
      "Items count\t:  241014\n",
      "\n",
      "Invoice Id\t\t:  invoice0001 \n",
      "Transaction date\t:  2021-01-01 00:00:00\n"
     ]
    }
   ],
   "source": [
    "invLst = []\n",
    "\n",
    "d1 = datetime(2021,1,1)\n",
    "d2 = datetime(2022,1,1)\n",
    "\n",
    "invNo = 1\n",
    "\n",
    "while d1 < d2:\n",
    "    dailyCustomerCount = random.randrange(100, 200)\n",
    "    for _ in range(dailyCustomerCount):\n",
    "        zeros = '0'*(4 - len(str(invNo)))\n",
    "        invId = 'invoice' + zeros + str(invNo)\n",
    "        \n",
    "        date = d1\n",
    "        customer = random.choice(cusLst)\n",
    "        \n",
    "        items = []\n",
    "        \n",
    "        for item in itmLst:\n",
    "            qty = random.randrange(0, 8)\n",
    "            if qty > 0:\n",
    "                items.append( OrderedItem(item, qty) )\n",
    "        \n",
    "        invLst.append( Invoice(invId, date, customer, items) )\n",
    "        invNo = invNo + 1\n",
    "    d1 = d1 + timedelta(days=1)\n",
    "\n",
    "itemsCount = 0\n",
    "\n",
    "for inv in invLst:\n",
    "    itemsCount = itemsCount + len(inv.getItems())\n",
    "\n",
    "print(\"Invoice count\\t: \", len(invLst))\n",
    "print(\"Items count\\t: \", itemsCount)\n",
    "invLst[0].getInvDetails()"
   ]
  },
  {
   "cell_type": "code",
   "execution_count": 73,
   "id": "0e04b4ec",
   "metadata": {},
   "outputs": [],
   "source": [
    "from openpyxl import Workbook"
   ]
  },
  {
   "cell_type": "code",
   "execution_count": 74,
   "id": "07c74a88",
   "metadata": {},
   "outputs": [
    {
     "name": "stdout",
     "output_type": "stream",
     "text": [
      "Customers added to sheet 1\n"
     ]
    }
   ],
   "source": [
    "wb = Workbook()\n",
    "\n",
    "sheet1 = wb.create_sheet()\n",
    "sheet2 = wb.create_sheet()\n",
    "sheet3 = wb.create_sheet()\n",
    "\n",
    "sheet1.title = \"customers\"\n",
    "\n",
    "sheet1.cell(1,1).value = \"user_id\"\n",
    "sheet1.cell(1,2).value = \"name\"\n",
    "sheet1.cell(1,3).value = \"birthdate\"\n",
    "sheet1.cell(1,4).value = \"age\"\n",
    "sheet1.cell(1,5).value = \"gender\"\n",
    "sheet1.cell(1,6).value = \"status\"\n",
    "sheet1.cell(1,7).value = \"location\"\n",
    "\n",
    "row = 2\n",
    "\n",
    "for customer in cusLst:\n",
    "    sheet1.cell(row,1).value = customer.getCusId()\n",
    "    sheet1.cell(row,2).value = customer.getName()\n",
    "    sheet1.cell(row,3).value = customer.getDob()\n",
    "    sheet1.cell(row,4).value = customer.getAge()\n",
    "    sheet1.cell(row,5).value = customer.getSex()\n",
    "    sheet1.cell(row,6).value = customer.getMarried()\n",
    "    sheet1.cell(row,7).value = customer.getLocation()\n",
    "    row = row + 1\n",
    "\n",
    "print(\"Customers added to sheet 1\")"
   ]
  },
  {
   "cell_type": "code",
   "execution_count": 75,
   "id": "e8cbdd6f",
   "metadata": {},
   "outputs": [
    {
     "name": "stdout",
     "output_type": "stream",
     "text": [
      "Items added to sheet 2\n"
     ]
    }
   ],
   "source": [
    "sheet2.title = \"items\"\n",
    "\n",
    "sheet2.cell(1,1).value = \"item_id\"\n",
    "sheet2.cell(1,2).value = \"item\"\n",
    "sheet2.cell(1,3).value = \"price\"\n",
    "\n",
    "row = 2\n",
    "\n",
    "for item in itmLst:\n",
    "    sheet2.cell(row,1).value = item.getItmId()\n",
    "    sheet2.cell(row,2).value = item.getName()\n",
    "    sheet2.cell(row,3).value = item.getPrice()\n",
    "    row = row + 1\n",
    "\n",
    "print(\"Items added to sheet 2\")"
   ]
  },
  {
   "cell_type": "code",
   "execution_count": 76,
   "id": "311e2f9d",
   "metadata": {},
   "outputs": [
    {
     "name": "stdout",
     "output_type": "stream",
     "text": [
      "Retail added to sheet 3\n"
     ]
    }
   ],
   "source": [
    "sheet3.title = \"retail\"\n",
    "\n",
    "invId, date, customer, items\n",
    "\n",
    "sheet3.cell(1,1).value = \"invoice_id\"\n",
    "sheet3.cell(1,2).value = \"transaction_date\"\n",
    "sheet3.cell(1,3).value = \"user_id\"\n",
    "sheet3.cell(1,4).value = \"item_id\"\n",
    "sheet3.cell(1,5).value = \"item_price\"\n",
    "sheet3.cell(1,6).value = \"qty\"\n",
    "\n",
    "row = 2\n",
    "\n",
    "for invoice in invLst:\n",
    "    for item in invoice.getItems():\n",
    "        sheet3.cell(row,1).value = invoice.getInvId()\n",
    "        sheet3.cell(row,2).value = str(invoice.getDate())\n",
    "        sheet3.cell(row,3).value = invoice.getCustomer().getCusId()\n",
    "        sheet3.cell(row,4).value = item.getItem().getItmId()\n",
    "        sheet3.cell(row,5).value = item.getItem().getPrice()\n",
    "        sheet3.cell(row,6).value = item.getQty()\n",
    "        row = row + 1    \n",
    "\n",
    "print(\"Retail added to sheet 3\")"
   ]
  },
  {
   "cell_type": "code",
   "execution_count": 77,
   "id": "45140e8c",
   "metadata": {},
   "outputs": [
    {
     "name": "stdout",
     "output_type": "stream",
     "text": [
      "file saved\n"
     ]
    }
   ],
   "source": [
    "wb.save('retail.xlsx')\n",
    "\n",
    "print('file saved')"
   ]
  },
  {
   "cell_type": "code",
   "execution_count": null,
   "id": "5653ec96",
   "metadata": {},
   "outputs": [],
   "source": []
  }
 ],
 "metadata": {
  "kernelspec": {
   "display_name": "Python 3 (ipykernel)",
   "language": "python",
   "name": "python3"
  },
  "language_info": {
   "codemirror_mode": {
    "name": "ipython",
    "version": 3
   },
   "file_extension": ".py",
   "mimetype": "text/x-python",
   "name": "python",
   "nbconvert_exporter": "python",
   "pygments_lexer": "ipython3",
   "version": "3.9.13"
  }
 },
 "nbformat": 4,
 "nbformat_minor": 5
}
